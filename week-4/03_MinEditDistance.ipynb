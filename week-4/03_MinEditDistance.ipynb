{
 "cells": [
  {
   "cell_type": "markdown",
   "metadata": {
    "id": "wt4sVtx0CqPh"
   },
   "source": [
    "# **Minimum Edit Distance 3**"
   ]
  },
  {
   "cell_type": "markdown",
   "metadata": {
    "id": "4ZpQZ813DSgW"
   },
   "source": [
    "# **Write up: Briefly Define your Algorithm**\n",
    "\n",
    "*Place your write up here as to how you implemented the minimum edit distance algorithm. Be as clear as you can, but don't over do it.*\n",
    "\n",
    "**Minimum Edit Distance**<br>\n",
    "I first make a matrix with the length of the target + 1 by the source + 1. I also initialize the matrix's first row and column by adding values from 0 to the length of the source + 1 for the row and the length of the target + 1 for the column. The algorithm starts at the index [1,1] wherein I check whether the character at the row index of the source matches the character at the column index of the target matches each other. If they do, then the I copy the value diagonally to the top left of it which becomes the new entry of the matrix, meaning it is a match. Otherwise, I get the values one index up + 1(insert), to the left + 1(delete), and diagonally to the top left + 2(mismatch) and choose which among the three is the minimum. Then the minimum will be the new entry in the matrix. I continue this as I traverse each index of the matrix from left to right and top to bottom. The last entry of the matrix will result to the minimum edit distance for the source and target strings.<br><br>\n",
    "**Backtracing**<br>\n",
    "For the back tracing portion, I had to traverse from the bottom right, to the top most index while choosing the path with the least weight. While in a loop, I choose between the value above, to the left, and diagonally to the top left whether which is the minimum. There are four conditions I have to check to know which minimum operation to use to help assign the alignments. I check for a mismatch, meaning the diagonal value is the minimum and is minus 2 of the current index, I check for a match wherein the diagonal value is the minimum and is the same as the current index, an insertion where the minium value is to the left of the current index, and lastly a delete operation which is one value above the current index. I have an operation string that keeps getting appendend with the minimum operation as I back trace throught the matrix. For the alignments, if I get a mismatch, I just copy both characters from the source and target's row and column index respectively. I do the same thing for a match. If I get an insertion, the target alignment gets a \"-\" character while the source alignment gets the column index of the original string. Lastly for a deletion, the source alignment gets a \"-\" character while the target alignment gets the character at the row index of the orginal string. "
   ]
  },
  {
   "cell_type": "code",
   "execution_count": null,
   "metadata": {
    "id": "nnzCsnf1E4V1"
   },
   "outputs": [],
   "source": [
    "\n",
    "from typing import Tuple, List, Dict\n",
    "\n",
    "def _backtrace(matrix: List[List[int]], source: str, target: str, allow_transpose: bool=False) -> Tuple[str,str,str]:\n",
    "    i, j = len(source), len(target)\n",
    "    s_align, t_align, ops = [], [], []\n",
    "    while i>0 or j>0:\n",
    "        cur = matrix[i][j]\n",
    "        moved = False\n",
    "\n",
    "        if i>0 and j>0 and matrix[i-1][j-1] + (0 if source[i-1]==target[j-1] else 1) == cur:\n",
    "            s_align.append(source[i-1])\n",
    "            t_align.append(target[j-1])\n",
    "            ops.append(\" \" if source[i-1]==target[j-1] else \"M\")\n",
    "            i -= 1; j -= 1; moved=True\n",
    "    \n",
    "        elif allow_transpose and i>1 and j>1 and source[i-1]==target[j-2] and source[i-2]==target[j-1] and matrix[i-2][j-2] + 1 == cur:\n",
    "            s_align.append(source[i-2:i])\n",
    "            t_align.append(target[j-2:j])\n",
    "            ops.append(\"T\")\n",
    "            i -= 2; j -= 2; moved=True\n",
    " \n",
    "        elif j>0 and matrix[i][j-1] + 1 == cur:\n",
    "            s_align.append(\"-\")\n",
    "            t_align.append(target[j-1])\n",
    "            ops.append(\"I\")\n",
    "            j -= 1; moved=True\n",
    "    \n",
    "        elif i>0 and matrix[i-1][j] + 1 == cur:\n",
    "            s_align.append(source[i-1])\n",
    "            t_align.append(\"-\")\n",
    "            ops.append(\"D\")\n",
    "            i -= 1; moved=True\n",
    "        if not moved: \n",
    "            if i>0 and j>0:\n",
    "                s_align.append(source[i-1]); t_align.append(target[j-1]); ops.append(\"?\")\n",
    "                i-=1; j-=1\n",
    "            elif i>0:\n",
    "                s_align.append(source[i-1]); t_align.append(\"-\"); ops.append(\"D\"); i-=1\n",
    "            else:\n",
    "                s_align.append(\"-\"); t_align.append(target[j-1]); ops.append(\"I\"); j-=1\n",
    "    return \"\".join(reversed(ops)), \"\".join(reversed(s_align)), \"\".join(reversed(t_align))\n",
    "\n",
    "def getMinEditDistance(source: str, target: str, allow_transpose: bool=False) -> Tuple[int, str, str, str]:\n",
    "    \"\"\"\n",
    "    Computes Levenshtein Minimum Edit Distance (unit costs).\n",
    "    If allow_transpose=True, uses the optimal string alignment (restricted Damerau) distance\n",
    "    where adjacent transpositions cost 1.\n",
    "    Returns: (distance, ops, s_alignment, t_alignment)\n",
    "    Legend: I=Insert, D=Delete, M=Mismatch(Substitution), ' '=Match, T=Transpose (if enabled)\n",
    "    \"\"\"\n",
    "    m, n = len(source), len(target)\n",
    "    \n",
    "    matrix = [[0]*(n+1) for _ in range(m+1)]\n",
    "    for i in range(1, m+1): matrix[i][0] = i\n",
    "    for j in range(1, n+1): matrix[0][j] = j\n",
    "\n",
    "    for i in range(1, m+1):\n",
    "        for j in range(1, n+1):\n",
    "            cost = 0 if source[i-1]==target[j-1] else 1\n",
    "            matrix[i][j] = min(\n",
    "                matrix[i-1][j] + 1,     \n",
    "                matrix[i][j-1] + 1,     \n",
    "                matrix[i-1][j-1] + cost  \n",
    "            )\n",
    "            if allow_transpose and i>1 and j>1 and source[i-1]==target[j-2] and source[i-2]==target[j-1]:\n",
    "                matrix[i][j] = min(matrix[i][j], matrix[i-2][j-2] + 1)\n",
    "\n",
    "    ops, s_align, t_align = _backtrace(matrix, source, target, allow_transpose)\n",
    "    dist = matrix[m][n]\n",
    "\n",
    "    print(f\"Distance: {dist}\")\n",
    "    print(ops)\n",
    "    print(s_align)\n",
    "    print(t_align)\n",
    "    return dist, ops, s_align, t_align\n"
   ]
  },
  {
   "cell_type": "code",
   "execution_count": null,
   "metadata": {},
   "outputs": [
    {
     "data": {
      "text/plain": [
       "[[0, 1, 2, 3, 4, 5, 6, 7, 8, 9, 10, 11, 12],\n",
       " [1, 0, 0, 0, 0, 0, 0, 0, 0, 0, 0, 0, 0],\n",
       " [2, 0, 0, 0, 0, 0, 0, 0, 0, 0, 0, 0, 0],\n",
       " [3, 0, 0, 0, 0, 0, 0, 0, 0, 0, 0, 0, 0],\n",
       " [4, 0, 0, 0, 0, 0, 0, 0, 0, 0, 0, 0, 0],\n",
       " [5, 0, 0, 0, 0, 0, 0, 0, 0, 0, 0, 0, 0],\n",
       " [6, 0, 0, 0, 0, 0, 0, 0, 0, 0, 0, 0, 0],\n",
       " [7, 0, 0, 0, 0, 0, 0, 0, 0, 0, 0, 0, 0],\n",
       " [8, 0, 0, 0, 0, 0, 0, 0, 0, 0, 0, 0, 0],\n",
       " [9, 0, 0, 0, 0, 0, 0, 0, 0, 0, 0, 0, 0],\n",
       " [10, 0, 0, 0, 0, 0, 0, 0, 0, 0, 0, 0, 0],\n",
       " [11, 0, 0, 0, 0, 0, 0, 0, 0, 0, 0, 0, 0],\n",
       " [12, 0, 0, 0, 0, 0, 0, 0, 0, 0, 0, 0, 0]]"
      ]
     },
     "execution_count": 40,
     "metadata": {},
     "output_type": "execute_result"
    }
   ],
   "source": []
  },
  {
   "cell_type": "markdown",
   "metadata": {},
   "source": [
    "[[0, 1, 2, 3, 4, 5, 6, 7, 8, 9, 10, 11, 12],\n",
    " \n",
    " [1, 0, 0, 0, 0, 0, 0, 0, 0, 0, 0, 0, 0],\n",
    " \n",
    " [2, 0, 0, 0, 0, 0, 0, 0, 0, 0, 0, 0, 0],\n",
    " \n",
    " [3, 0, 0, 0, 0, 0, 0, 0, 0, 0, 0, 0, 0],\n",
    " \n",
    " [4, 0, 0, 0, 0, 0, 0, 0, 0, 0, 0, 0, 0],\n",
    " \n",
    " [5, 0, 0, 0, 0, 0, 0, 0, 0, 0, 0, 0, 0],\n",
    " \n",
    " [6, 0, 0, 0, 0, 0, 0, 0, 0, 0, 0, 0, 0],\n",
    " \n",
    " [7, 0, 0, 0, 0, 0, 0, 0, 0, 0, 0, 0, 0],\n",
    " \n",
    " [8, 0, 0, 0, 0, 0, 0, 0, 0, 0, 0, 0, 0],\n",
    " \n",
    " [9, 0, 0, 0, 0, 0, 0, 0, 0, 0, 0, 0, 0],\n",
    " \n",
    " [10, 0, 0, 0, 0, 0, 0, 0, 0, 0, 0, 0, 0],\n",
    " \n",
    " [11, 0, 0, 0, 0, 0, 0, 0, 0, 0, 0, 0, 0],\n",
    " \n",
    " [12, 0, 0, 0, 0, 0, 0, 0, 0, 0, 0, 0, 0]]"
   ]
  },
  {
   "cell_type": "code",
   "execution_count": null,
   "metadata": {
    "id": "gfXU5Xc4E_ud"
   },
   "outputs": [],
   "source": []
  },
  {
   "cell_type": "markdown",
   "metadata": {
    "id": "Z0g8gfIKukjx"
   },
   "source": [
    "#**Test Cases**\n",
    "\n",
    "**Legend**<br>\n",
    "I - Insert <br>\n",
    "D - Delete <br>\n",
    "M - Mismatch <br>\n",
    "\" \" - Match"
   ]
  },
  {
   "cell_type": "code",
   "execution_count": 4,
   "metadata": {},
   "outputs": [
    {
     "name": "stdout",
     "output_type": "stream",
     "text": [
      "Source: naruto's son\n",
      "Target: boruto's dad\n",
      "-----\n",
      "Distance:  10\n",
      "Aligment:\n",
      "naruto's son\n",
      "MM       MMM\n",
      "boruto's dad\n"
     ]
    }
   ],
   "source": [
    "getMinEditDistance(\"naruto's son\", \"boruto's dad\")"
   ]
  },
  {
   "cell_type": "code",
   "execution_count": 5,
   "metadata": {},
   "outputs": [
    {
     "name": "stdout",
     "output_type": "stream",
     "text": [
      "Source: kumakain\n",
      "Target: kumain\n",
      "-----\n",
      "Distance:  2\n",
      "Aligment:\n",
      "kumakain\n",
      "    DD  \n",
      "kuma--in\n"
     ]
    }
   ],
   "source": [
    "getMinEditDistance(\"kumakain\", \"kumain\")"
   ]
  },
  {
   "cell_type": "code",
   "execution_count": 6,
   "metadata": {},
   "outputs": [
    {
     "name": "stdout",
     "output_type": "stream",
     "text": [
      "Source: levinstien\n",
      "Target: levenshtein\n",
      "-----\n",
      "Distance:  5\n",
      "Aligment:\n",
      "levins-tie-n\n",
      "   M  I D I \n",
      "levensht-ein\n"
     ]
    }
   ],
   "source": [
    "getMinEditDistance(\"levinstien\", \"levenshtein\")"
   ]
  },
  {
   "cell_type": "code",
   "execution_count": 7,
   "metadata": {},
   "outputs": [
    {
     "name": "stdout",
     "output_type": "stream",
     "text": [
      "Source: leviathan\n",
      "Target: levenshtein\n",
      "-----\n",
      "Distance:  10\n",
      "Aligment:\n",
      "lev--iathan\n",
      "   IIMM MM \n",
      "levenshtein\n"
     ]
    }
   ],
   "source": [
    "getMinEditDistance(\"leviathan\", \"levenshtein\")"
   ]
  },
  {
   "cell_type": "code",
   "execution_count": 8,
   "metadata": {},
   "outputs": [
    {
     "name": "stdout",
     "output_type": "stream",
     "text": [
      "Source: ATGCATCCCATGAC\n",
      "Target: TCTATATCCGT\n",
      "-----\n",
      "Distance:  11\n",
      "Aligment:\n",
      "ATGC-ATCCCAT--GAC\n",
      "D D I  DDD  II DM\n",
      "-T-CTAT---ATCCG-T\n"
     ]
    }
   ],
   "source": [
    "getMinEditDistance(\"ATGCATCCCATGAC\", \"TCTATATCCGT\")"
   ]
  },
  {
   "cell_type": "code",
   "execution_count": 9,
   "metadata": {},
   "outputs": [
    {
     "name": "stdout",
     "output_type": "stream",
     "text": [
      "Source: AGGCTATCACCTGACCTCCAGGCCGATGCCCACCTGG\n",
      "Target: TAGCTATCACGACCGCGGTCGATTTGCCCGACGGTCC\n",
      "-----\n",
      "Distance:  18\n",
      "Aligment:\n",
      "-AGGCTATCACCTGACCTCCAGG-CCGAT--GCCC-ACCTGG---\n",
      "I  D       DD    M DD  I D   II    I  DD  III\n",
      "TAG-CTATCAC--GACCGC--GGTC-GATTTGCCCGAC--GGTCC\n"
     ]
    }
   ],
   "source": [
    "getMinEditDistance(\"AGGCTATCACCTGACCTCCAGGCCGATGCCCACCTGG\", \"TAGCTATCACGACCGCGGTCGATTTGCCCGACGGTCC\")"
   ]
  },
  {
   "cell_type": "markdown",
   "metadata": {},
   "source": [
    "### Your tasks-1:\n",
    "\n",
    "Run the function getMinEditDistance(source, target) on the following test cases:\n",
    "\n",
    "* \"kitten\" → \"sitting\"\n",
    "\n",
    "* \"flaw\" → \"lawn\"\n",
    "\n",
    "* \"intention\" → \"execution\"\n",
    "\n",
    "Write down:\n",
    "\n",
    "* the edit distance,\n",
    "\n",
    "* the sequence of operations (Insertion I, Deletion D, Mismatch M),\n",
    "\n",
    "* and the final alignment printed."
   ]
  },
  {
   "cell_type": "markdown",
   "metadata": {},
   "source": [
    "### Your tasks-2:\n",
    "Extend the algorithm:\n",
    "Modify the function so that:\n",
    "\n",
    "Insertion = 1\n",
    "\n",
    "Deletion = 1\n",
    "\n",
    "Substitution = 1\n",
    "\n",
    "(Bonus) Transposition of two adjacent characters = 1\n",
    "\n",
    "Test your new algorithm on:\n",
    "\n",
    "\"abcd\" → \"acbd\""
   ]
  },
  {
   "cell_type": "code",
   "execution_count": null,
   "metadata": {},
   "outputs": [],
   "source": [
    "\n",
    "getMinEditDistance(\"abcd\", \"acbd\", allow_transpose=True)\n"
   ]
  }
 ],
 "metadata": {
  "colab": {
   "name": "PA3_MinEditDistance_template.ipynb",
   "provenance": []
  },
  "kernelspec": {
   "display_name": "Python 3 (ipykernel)",
   "language": "python",
   "name": "python3"
  },
  "language_info": {
   "codemirror_mode": {
    "name": "ipython",
    "version": 3
   },
   "file_extension": ".py",
   "mimetype": "text/x-python",
   "name": "python",
   "nbconvert_exporter": "python",
   "pygments_lexer": "ipython3",
   "version": "3.12.4"
  }
 },
 "nbformat": 4,
 "nbformat_minor": 4
}
