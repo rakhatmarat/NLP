import re
import pandas as pd

def clean_text(text):
    if pd.isna(text):  
        return "unknown"  # если значение пустое (NaN)
    
    # 1. Убираем пробелы в начале/конце
    text = text.strip()
    
    # 2. Приводим всё к нижнему регистру
    text = text.lower()
    
    # 3. Убираем спецсимволы и пунктуацию (оставляем буквы, цифры и пробелы)
    text = re.sub(r"[^a-z0-9\s]", "", text)
    
    # 4. Заменяем несколько пробелов на один
    text = re.sub(r"\s+", " ", text)
    
    return text
#Конец вашего кода